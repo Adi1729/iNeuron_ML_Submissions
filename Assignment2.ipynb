{
 "cells": [
  {
   "cell_type": "markdown",
   "metadata": {},
   "source": [
    "# Assignment2 by Aditya Yadav"
   ]
  },
  {
   "cell_type": "markdown",
   "metadata": {},
   "source": [
    "## Tasks\n",
    "\n",
    "\n",
    "1 : Create the below pattern using nested for loop in Python. <br>\n",
    "            \n",
    "            *\n",
    "            * *\n",
    "            * * *\n",
    "            * * * *\n",
    "            * * * * *\n",
    "            * * * *\n",
    "            * * *\n",
    "            * *\n",
    "            *\n",
    "\n",
    "2 : Write a Python program to reverse a word after accepting the input from the user. <br>\n",
    "        Sample Output: <br>\n",
    "        Input word: ineuron <br>\n",
    "        Output: norueni <br>\n",
    "        \n"
   ]
  },
  {
   "cell_type": "markdown",
   "metadata": {},
   "source": [
    "### 1"
   ]
  },
  {
   "cell_type": "code",
   "execution_count": 2,
   "metadata": {},
   "outputs": [
    {
     "name": "stdout",
     "output_type": "stream",
     "text": [
      "\n",
      "* \n",
      "* * \n",
      "* * * \n",
      "* * * * \n",
      "* * * * * \n",
      "* * * * \n",
      "* * * \n",
      "* * \n",
      "* \n",
      "\n"
     ]
    }
   ],
   "source": [
    "n = 6 \n",
    "\n",
    "for i in range(n):\n",
    "    for j in range(i):\n",
    "        print('*', end = ' ')\n",
    "    print()       \n",
    "\n",
    "\n",
    "for i in reversed(range(n-1)):\n",
    "    for j in range(i):\n",
    "        print('*', end = ' ')\n",
    "    print()"
   ]
  },
  {
   "cell_type": "markdown",
   "metadata": {},
   "source": [
    "### 2"
   ]
  },
  {
   "cell_type": "code",
   "execution_count": 1,
   "metadata": {},
   "outputs": [
    {
     "name": "stdout",
     "output_type": "stream",
     "text": [
      "String to be reversed : ineuron\n",
      "String in Reverse : norueni \n"
     ]
    }
   ],
   "source": [
    "user_input = input(\"String to be reversed : \")\n",
    "\n",
    "def reverse(name):\n",
    "    reverse_str = ' '\n",
    "    for char in name:\n",
    "        reverse_str = char +  reverse_str         \n",
    "    return reverse_str\n",
    "\n",
    "print(f'String in Reverse : {reverse(user_input)}')"
   ]
  }
 ],
 "metadata": {
  "kernelspec": {
   "display_name": "Python 3",
   "language": "python",
   "name": "python3"
  },
  "language_info": {
   "codemirror_mode": {
    "name": "ipython",
    "version": 3
   },
   "file_extension": ".py",
   "mimetype": "text/x-python",
   "name": "python",
   "nbconvert_exporter": "python",
   "pygments_lexer": "ipython3",
   "version": "3.6.5"
  }
 },
 "nbformat": 4,
 "nbformat_minor": 2
}
