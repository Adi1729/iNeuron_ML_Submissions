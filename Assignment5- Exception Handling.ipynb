{
 "cells": [
  {
   "cell_type": "markdown",
   "metadata": {},
   "source": [
    "# Assignment5 Exception Handling by Aditya Yadav"
   ]
  },
  {
   "cell_type": "markdown",
   "metadata": {},
   "source": [
    "# Tasks\n",
    "\n",
    "1. Write a function to compute 5/0 and use try/except to catch the exceptions.\n",
    "2. Implement a Python program to generate all sentences where subject is in <br>\n",
    "    [\"Americans\", \"Indians\"] and verb is in [\"Play\", \"watch\"] and the object is in <br>\n",
    "    [\"Baseball\",\"cricket\"].<br>\n",
    "    Hint: Subject,Verb and Object should be declared in the program as shown below. <br>\n",
    "    subjects=[\"Americans \",\"Indians\"] <br>\n",
    "    verbs=[\"play\",\"watch\"] <br>\n",
    "    objects=[\"Baseball\",\"Cricket\"] <br><br>\n",
    "    Output should come as below: <br><br>\n",
    "    Americans play Baseball. <br>\n",
    "    Americans play Cricket. <br>\n",
    "    Americans watch Baseball. <br>\n",
    "    Americans watch Cricket. <br>\n",
    "    Indians play Baseball. <br>\n",
    "    Indians play Cricket. <br>\n",
    "    Indians watch Baseball. <br>\n",
    "    Indians watch Cricket. <br>\n",
    "  "
   ]
  },
  {
   "cell_type": "markdown",
   "metadata": {},
   "source": [
    "### 1"
   ]
  },
  {
   "cell_type": "code",
   "execution_count": 1,
   "metadata": {},
   "outputs": [
    {
     "name": "stdout",
     "output_type": "stream",
     "text": [
      "division by zero\n"
     ]
    }
   ],
   "source": [
    "try:\n",
    "    print(5/0)\n",
    "except Exception as e :\n",
    "    print(e)"
   ]
  },
  {
   "cell_type": "markdown",
   "metadata": {},
   "source": [
    "### 2"
   ]
  },
  {
   "cell_type": "code",
   "execution_count": 2,
   "metadata": {},
   "outputs": [],
   "source": [
    "subjects=[\"Americans\",\"Indians\"]\n",
    "verbs=[\"play\",\"watch\"]\n",
    "objects=[\"Baseball\",\"Cricket\"] \n",
    "\n"
   ]
  },
  {
   "cell_type": "code",
   "execution_count": 3,
   "metadata": {},
   "outputs": [
    {
     "name": "stdout",
     "output_type": "stream",
     "text": [
      "Americans play Baseball.\n",
      "Americans play Cricket.\n",
      "Americans watch Baseball.\n",
      "Americans watch Cricket.\n",
      "Indians play Baseball.\n",
      "Indians play Cricket.\n",
      "Indians watch Baseball.\n",
      "Indians watch Cricket.\n"
     ]
    }
   ],
   "source": [
    "for sub in subjects :\n",
    "    for verb in verbs :\n",
    "        for object_ in objects :\n",
    "            print(f'{sub} {verb} {object_}.')\n"
   ]
  }
 ],
 "metadata": {
  "kernelspec": {
   "display_name": "Python 3",
   "language": "python",
   "name": "python3"
  },
  "language_info": {
   "codemirror_mode": {
    "name": "ipython",
    "version": 3
   },
   "file_extension": ".py",
   "mimetype": "text/x-python",
   "name": "python",
   "nbconvert_exporter": "python",
   "pygments_lexer": "ipython3",
   "version": "3.7.4"
  }
 },
 "nbformat": 4,
 "nbformat_minor": 2
}
