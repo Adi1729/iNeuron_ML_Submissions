{
 "cells": [
  {
   "cell_type": "markdown",
   "metadata": {},
   "source": [
    "# Assignment1 by Aditya Yadav"
   ]
  },
  {
   "cell_type": "markdown",
   "metadata": {},
   "source": [
    "# Tasks\n",
    "\n",
    "1 :  Program which will find all such numbers which are divisible by 7 but are not a multiple\n",
    "     of 5, between 2000 and 3200 (both included). The numbers obtained should be printed in a\n",
    "     comma-separated sequence on a single line. <br>\n",
    "2 : Program to accept the user's first and last name and then getting them printed in\n",
    "    the the reverse order with a space between first name and last name. <br>\n",
    "3 : Program to find the volume of a sphere with diameter 12 cm. <br>\n",
    "4 : Program which accepts a sequence of comma-separated numbers from console and\n",
    "    generate a list <br>\n",
    "5 : Create the below pattern using nested for loop in Python. <br>\n",
    "            \n",
    "            *\n",
    "            * *\n",
    "            * * *\n",
    "            * * * *\n",
    "            * * * * *\n",
    "            * * * *\n",
    "            * * *\n",
    "            * *\n",
    "            *\n",
    "\n",
    "6 : Write a Python program to reverse a word after accepting the input from the user. <br>\n",
    "        Sample Output: <br>\n",
    "        Input word: AcadGild <br>\n",
    "        Output: dilGdacA <br>\n",
    "        \n",
    "7 : Write a Python Program to print the given string in the format specified in the sample output.\n",
    "\n",
    "    WE, THE PEOPLE OF INDIA, having solemnly resolved to constitute India into a\n",
    "    SOVEREIGN, SOCIALIST, SECULAR, DEMOCRATIC REPUBLIC and to secure to all\n",
    "    its citizens\n",
    "\n",
    "    Sample Output:\n",
    "    WE, THE PEOPLE OF INDIA,\n",
    "    having solemnly resolved to constitute India into a SOVEREIGN, !\n",
    "    SOCIALIST, SECULAR, DEMOCRATIC REPUBLIC\n",
    "    and to secure to all its citizens"
   ]
  },
  {
   "cell_type": "markdown",
   "metadata": {},
   "source": [
    "### 1"
   ]
  },
  {
   "cell_type": "code",
   "execution_count": 1,
   "metadata": {},
   "outputs": [
    {
     "name": "stdout",
     "output_type": "stream",
     "text": [
      "2002,2009,2016,2023,2037,2044,2051,2058,2072,2079,2086,2093,2107,2114,2121,2128,2142,2149,2156,2163,2177,2184,2191,2198,2212,2219,2226,2233,2247,2254,2261,2268,2282,2289,2296,2303,2317,2324,2331,2338,2352,2359,2366,2373,2387,2394,2401,2408,2422,2429,2436,2443,2457,2464,2471,2478,2492,2499,2506,2513,2527,2534,2541,2548,2562,2569,2576,2583,2597,2604,2611,2618,2632,2639,2646,2653,2667,2674,2681,2688,2702,2709,2716,2723,2737,2744,2751,2758,2772,2779,2786,2793,2807,2814,2821,2828,2842,2849,2856,2863,2877,2884,2891,2898,2912,2919,2926,2933,2947,2954,2961,2968,2982,2989,2996,3003,3017,3024,3031,3038,3052,3059,3066,3073,3087,3094,3101,3108,3122,3129,3136,3143,3157,3164,3171,3178,3192,3199,"
     ]
    }
   ],
   "source": [
    "output = []\n",
    "for number in range(2000,3201):\n",
    "    if (number % 7 ==0 and number % 5 !=0):\n",
    "        print(number , end = ',')"
   ]
  },
  {
   "cell_type": "markdown",
   "metadata": {},
   "source": [
    "### 2"
   ]
  },
  {
   "cell_type": "code",
   "execution_count": 2,
   "metadata": {},
   "outputs": [
    {
     "name": "stdout",
     "output_type": "stream",
     "text": [
      "First Name : Aditya\n",
      "Last Name : Yadav\n",
      "Name in Reverse : aytidA  vadaY \n"
     ]
    }
   ],
   "source": [
    "firstname = input(\"First Name : \")\n",
    "lastname = input(\"Last Name : \")\n",
    "\n",
    "def reverse(name):\n",
    "    reverse_str = ' '\n",
    "    for char in name:\n",
    "        reverse_str =  char +  reverse_str         \n",
    "    return reverse_str\n",
    "\n",
    "print(f'Name in Reverse : {reverse(firstname)} {reverse(lastname)}')\n",
    "\n"
   ]
  },
  {
   "cell_type": "markdown",
   "metadata": {},
   "source": [
    "### 3"
   ]
  },
  {
   "cell_type": "code",
   "execution_count": 3,
   "metadata": {},
   "outputs": [
    {
     "name": "stdout",
     "output_type": "stream",
     "text": [
      "Volume of sphere with radius 12 : 7238.229473870882\n"
     ]
    }
   ],
   "source": [
    "import math\n",
    "r = 12\n",
    "print(f'Volume of sphere with radius {r} : {4/3 * math.pi * r**3}')"
   ]
  },
  {
   "cell_type": "markdown",
   "metadata": {},
   "source": [
    "### 4"
   ]
  },
  {
   "cell_type": "code",
   "execution_count": 4,
   "metadata": {},
   "outputs": [
    {
     "name": "stdout",
     "output_type": "stream",
     "text": [
      "Enter comma seperated sequence : 1,2,3,4,5\n"
     ]
    },
    {
     "data": {
      "text/plain": [
       "[1, 2, 3, 4, 5]"
      ]
     },
     "execution_count": 4,
     "metadata": {},
     "output_type": "execute_result"
    }
   ],
   "source": [
    "seq = input(\"Enter comma seperated sequence : \")\n",
    "seq_list = [int(n) for n in seq.split(\",\")]\n",
    "seq_list"
   ]
  },
  {
   "cell_type": "markdown",
   "metadata": {},
   "source": [
    "### 5"
   ]
  },
  {
   "cell_type": "code",
   "execution_count": 5,
   "metadata": {},
   "outputs": [
    {
     "name": "stdout",
     "output_type": "stream",
     "text": [
      "\n",
      "* \n",
      "* * \n",
      "* * * \n",
      "* * * * \n",
      "* * * * * \n",
      "* * * * \n",
      "* * * \n",
      "* * \n",
      "* \n",
      "\n"
     ]
    }
   ],
   "source": [
    "n = 6 \n",
    "\n",
    "for i in range(n):\n",
    "    for j in range(i):\n",
    "        print('*', end = ' ')\n",
    "    print()       \n",
    "\n",
    "\n",
    "for i in reversed(range(n-1)):\n",
    "    for j in range(i):\n",
    "        print('*', end = ' ')\n",
    "    print()"
   ]
  },
  {
   "cell_type": "markdown",
   "metadata": {},
   "source": [
    "### 6"
   ]
  },
  {
   "cell_type": "code",
   "execution_count": 6,
   "metadata": {},
   "outputs": [
    {
     "name": "stdout",
     "output_type": "stream",
     "text": [
      "String to be reversed : AcadGild\n",
      "String in Reverse : dliGdacA \n"
     ]
    }
   ],
   "source": [
    "user_input = input(\"String to be reversed : \")\n",
    "\n",
    "def reverse(name):\n",
    "    reverse_str = ' '\n",
    "    for char in name:\n",
    "        reverse_str = char +  reverse_str         \n",
    "    return reverse_str\n",
    "\n",
    "print(f'String in Reverse : {reverse(user_input)}')"
   ]
  },
  {
   "cell_type": "markdown",
   "metadata": {},
   "source": [
    "### 7"
   ]
  },
  {
   "cell_type": "code",
   "execution_count": 11,
   "metadata": {},
   "outputs": [
    {
     "name": "stdout",
     "output_type": "stream",
     "text": [
      "WE, THE PEOPLE OF INDIA, \n",
      " having solemnly resolved to constitute India into a SOVEREIGN, ! \n",
      " SOCIALIST, SECULAR, DEMOCRATIC REPUBLIC \n",
      " and to secure to all its citizens\n"
     ]
    }
   ],
   "source": [
    "print(f'WE, THE PEOPLE OF INDIA, \\n having solemnly resolved to constitute India into a SOVEREIGN, ! \\n SOCIALIST, SECULAR, DEMOCRATIC REPUBLIC \\n and to secure to all its citizens')\n",
    "      "
   ]
  }
 ],
 "metadata": {
  "kernelspec": {
   "display_name": "Python 3",
   "language": "python",
   "name": "python3"
  },
  "language_info": {
   "codemirror_mode": {
    "name": "ipython",
    "version": 3
   },
   "file_extension": ".py",
   "mimetype": "text/x-python",
   "name": "python",
   "nbconvert_exporter": "python",
   "pygments_lexer": "ipython3",
   "version": "3.7.4"
  }
 },
 "nbformat": 4,
 "nbformat_minor": 2
}
