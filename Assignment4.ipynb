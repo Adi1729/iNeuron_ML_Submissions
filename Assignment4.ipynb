{
 "cells": [
  {
   "cell_type": "markdown",
   "metadata": {},
   "source": [
    "# Assignment4 by Aditya Yadav"
   ]
  },
  {
   "cell_type": "markdown",
   "metadata": {},
   "source": [
    "# Tasks\n",
    "\n",
    "1.1 : Write a Python Program(with class concepts) to find the area of the triangle using the below\n",
    "      formula.<br>\n",
    "  area = (s*(s-a)*(s-b)*(s-c)) ** 0.5<br>\n",
    "  Function to take the length of the sides of triangle from user should be defined in the parent<br>\n",
    "  class and function to calculate the area should be defined in subclass.<br>\n",
    "\n",
    "1.2: Write a function filter_long_words() that takes a list of words and an integer n and returns<br>\n",
    "     the list of words that are longer than n.<br>\n",
    "     \n",
    "2.1 : Write a Python program using function concept that maps list of words into a list of integers<br>\n",
    "     representing the lengths of the corresponding words .<br>\n",
    "     Hint: If a list [ ab,cde,erty] is passed on to the python function output should come as [2,3,4] <br>\n",
    "      Here 2,3 and 4 are the lengths of the words in the list.<br>\n",
    "     \n",
    "2.2: Write a Python function which takes a character (i.e. a string of length 1) and returns True if <br>\n",
    "it is a vowel, False otherwise.<br>\n"
   ]
  },
  {
   "cell_type": "markdown",
   "metadata": {},
   "source": [
    "### 1.1"
   ]
  },
  {
   "cell_type": "code",
   "execution_count": 1,
   "metadata": {},
   "outputs": [],
   "source": [
    "class Area:\n",
    "    \n",
    "    '''\n",
    "    ----------\n",
    "    Parameters:\n",
    "    ----------\n",
    "    a,b,c : Sides of a triangle\n",
    "    \n",
    "    -----------\n",
    "    Returns:\n",
    "    -----------\n",
    "    Area of a traingle\n",
    "    '''\n",
    "    def __init__(self,a,b,c):\n",
    "        self.a = a\n",
    "        self.b = b\n",
    "        self.c = c\n",
    "        self.s = (a+b+c)/2\n",
    "        \n",
    "    def ComputeArea(self):\n",
    "        return (self.s * (self.s - self.a) * (self.s - self.b) * (self.s - self.c))**(0.5)"
   ]
  },
  {
   "cell_type": "code",
   "execution_count": 2,
   "metadata": {},
   "outputs": [
    {
     "name": "stdout",
     "output_type": "stream",
     "text": [
      "Area of a traingle : 6.0 unit sq\n"
     ]
    }
   ],
   "source": [
    "A = Area(3,4,5)\n",
    "B = A.ComputeArea()\n",
    "print(f'Area of a traingle : {B} unit sq')"
   ]
  },
  {
   "cell_type": "markdown",
   "metadata": {},
   "source": [
    "### 1.2"
   ]
  },
  {
   "cell_type": "code",
   "execution_count": 3,
   "metadata": {},
   "outputs": [],
   "source": [
    "\n",
    "def filter_long_words(list_words,n):\n",
    "    '''\n",
    "    ------------\n",
    "    Parameters:\n",
    "    ------------\n",
    "    list_words : list of words \n",
    "    n : integer\n",
    "    \n",
    "    ---------\n",
    "    Returns:\n",
    "    ---------\n",
    "    list of words that have lenght greater than n\n",
    "    \n",
    "    '''\n",
    "    list_long_words = []\n",
    "    for word in list_words:\n",
    "        if len(word) > n:\n",
    "            list_long_words.append(word)\n",
    "    return list_long_words\n"
   ]
  },
  {
   "cell_type": "code",
   "execution_count": 4,
   "metadata": {},
   "outputs": [
    {
     "data": {
      "text/plain": [
       "['bbbb', 'cccc', 'ddd']"
      ]
     },
     "execution_count": 4,
     "metadata": {},
     "output_type": "execute_result"
    }
   ],
   "source": [
    "filter_long_words(['aa','bbbb','cccc','ddd','e'],2)"
   ]
  },
  {
   "cell_type": "markdown",
   "metadata": {},
   "source": [
    "### 2.1"
   ]
  },
  {
   "cell_type": "code",
   "execution_count": 5,
   "metadata": {},
   "outputs": [],
   "source": [
    "def map_words_length(list_words):\n",
    "    '''\n",
    "    ------------\n",
    "    Parameters:\n",
    "    ------------\n",
    "    list_words : list of words \n",
    "    \n",
    "    ---------\n",
    "    Returns:\n",
    "    ---------\n",
    "    list of words length \n",
    "    \n",
    "    '''\n",
    "    list_words_length = []\n",
    "    for word in list_words:\n",
    "        list_words_length.append(len(word))\n",
    "    return list_words_length"
   ]
  },
  {
   "cell_type": "code",
   "execution_count": 6,
   "metadata": {},
   "outputs": [
    {
     "data": {
      "text/plain": [
       "[2, 4, 4, 3, 1]"
      ]
     },
     "execution_count": 6,
     "metadata": {},
     "output_type": "execute_result"
    }
   ],
   "source": [
    "map_words_length(['aa','bbbb','cccc','ddd','e'])"
   ]
  },
  {
   "cell_type": "markdown",
   "metadata": {},
   "source": [
    "### 2.2"
   ]
  },
  {
   "cell_type": "code",
   "execution_count": 7,
   "metadata": {},
   "outputs": [],
   "source": [
    "def check_vowel(char_a):\n",
    "    '''\n",
    "    ------------\n",
    "    Parameters:\n",
    "    ------------\n",
    "    char_a : character \n",
    "    \n",
    "    ---------\n",
    "    Returns:\n",
    "    ---------\n",
    "    Boolean \n",
    "    \n",
    "    '''\n",
    "\n",
    "    return char_a in ['A','E','I','O','U','a','e','i','o','u']"
   ]
  },
  {
   "cell_type": "code",
   "execution_count": 8,
   "metadata": {},
   "outputs": [
    {
     "data": {
      "text/plain": [
       "True"
      ]
     },
     "execution_count": 8,
     "metadata": {},
     "output_type": "execute_result"
    }
   ],
   "source": [
    "check_vowel('E')"
   ]
  }
 ],
 "metadata": {
  "kernelspec": {
   "display_name": "Python 3",
   "language": "python",
   "name": "python3"
  },
  "language_info": {
   "codemirror_mode": {
    "name": "ipython",
    "version": 3
   },
   "file_extension": ".py",
   "mimetype": "text/x-python",
   "name": "python",
   "nbconvert_exporter": "python",
   "pygments_lexer": "ipython3",
   "version": "3.7.4"
  }
 },
 "nbformat": 4,
 "nbformat_minor": 2
}
